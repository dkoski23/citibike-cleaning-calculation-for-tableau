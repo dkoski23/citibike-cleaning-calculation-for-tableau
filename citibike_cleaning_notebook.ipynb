{
 "cells": [
  {
   "cell_type": "code",
   "execution_count": 1,
   "id": "a5af9b38",
   "metadata": {},
   "outputs": [],
   "source": [
    "#geopy is imported to use the haversine formula, which calculates the distance between two points using lats/lngs\n",
    "import geopy.distance\n",
    "import pandas as pd\n",
    "import numpy as np\n",
    "low_memory=False"
   ]
  },
  {
   "cell_type": "code",
   "execution_count": 3,
   "id": "e8b90e8f",
   "metadata": {},
   "outputs": [
    {
     "name": "stderr",
     "output_type": "stream",
     "text": [
      "C:\\Users\\Dell\\anaconda3\\lib\\site-packages\\IPython\\core\\interactiveshell.py:3165: DtypeWarning: Columns (7) have mixed types.Specify dtype option on import or set low_memory=False.\n",
      "  has_raised = await self.run_ast_nodes(code_ast.body, cell_name,\n"
     ]
    }
   ],
   "source": [
    "july_2018 = pd.read_csv('201808-citibike-tripdata-large.csv')\n",
    "july_2019 = pd.read_csv('201908-citibike-tripdata-large.csv')\n",
    "july_2020 = pd.read_csv('202008-citibike-tripdata-large.csv')\n",
    "july_2021 = pd.read_csv('202108-citibike-tripdata-large.csv')"
   ]
  },
  {
   "cell_type": "code",
   "execution_count": 4,
   "id": "e6838fe5",
   "metadata": {},
   "outputs": [],
   "source": [
    "#get the distance from start to end point per ride and add it into the dataframe\n",
    "start_end = []\n",
    "for i in range(len(july_2018)):\n",
    "    start_coord = [float(july_2018['start station latitude'][i]), float(july_2018['start station longitude'][i])]\n",
    "    end_coord = [float(july_2018['end station latitude'][i]), float(july_2018['end station longitude'][i])]\n",
    "    linear_distance = geopy.distance.distance(start_coord, end_coord).miles\n",
    "    start_end.append(round(linear_distance, 3))\n",
    "\n",
    "july_2018[\"start/end distance in mi\"] = start_end"
   ]
  },
  {
   "cell_type": "code",
   "execution_count": 5,
   "id": "dc584c6e",
   "metadata": {},
   "outputs": [
    {
     "data": {
      "text/html": [
       "<div>\n",
       "<style scoped>\n",
       "    .dataframe tbody tr th:only-of-type {\n",
       "        vertical-align: middle;\n",
       "    }\n",
       "\n",
       "    .dataframe tbody tr th {\n",
       "        vertical-align: top;\n",
       "    }\n",
       "\n",
       "    .dataframe thead th {\n",
       "        text-align: right;\n",
       "    }\n",
       "</style>\n",
       "<table border=\"1\" class=\"dataframe\">\n",
       "  <thead>\n",
       "    <tr style=\"text-align: right;\">\n",
       "      <th></th>\n",
       "      <th>tripduration</th>\n",
       "      <th>starttime</th>\n",
       "      <th>stoptime</th>\n",
       "      <th>start station id</th>\n",
       "      <th>start station name</th>\n",
       "      <th>start station latitude</th>\n",
       "      <th>start station longitude</th>\n",
       "      <th>end station id</th>\n",
       "      <th>end station name</th>\n",
       "      <th>end station latitude</th>\n",
       "      <th>end station longitude</th>\n",
       "      <th>bikeid</th>\n",
       "      <th>usertype</th>\n",
       "      <th>birth year</th>\n",
       "      <th>gender</th>\n",
       "      <th>start/end distance in mi</th>\n",
       "    </tr>\n",
       "  </thead>\n",
       "  <tbody>\n",
       "    <tr>\n",
       "      <th>0</th>\n",
       "      <td>681</td>\n",
       "      <td>2018-08-01 00:00:07.3210</td>\n",
       "      <td>2018-08-01 00:11:28.9920</td>\n",
       "      <td>3162.0</td>\n",
       "      <td>W 78 St &amp; Broadway</td>\n",
       "      <td>40.783400</td>\n",
       "      <td>-73.980931</td>\n",
       "      <td>3383.0</td>\n",
       "      <td>Cathedral Pkwy &amp; Broadway</td>\n",
       "      <td>40.804213</td>\n",
       "      <td>-73.966991</td>\n",
       "      <td>27770</td>\n",
       "      <td>Subscriber</td>\n",
       "      <td>1986</td>\n",
       "      <td>1</td>\n",
       "      <td>1.612</td>\n",
       "    </tr>\n",
       "    <tr>\n",
       "      <th>1</th>\n",
       "      <td>625</td>\n",
       "      <td>2018-08-01 00:00:19.7480</td>\n",
       "      <td>2018-08-01 00:10:45.0290</td>\n",
       "      <td>3260.0</td>\n",
       "      <td>Mercer St &amp; Bleecker St</td>\n",
       "      <td>40.727064</td>\n",
       "      <td>-73.996621</td>\n",
       "      <td>2012.0</td>\n",
       "      <td>E 27 St &amp; 1 Ave</td>\n",
       "      <td>40.739445</td>\n",
       "      <td>-73.976806</td>\n",
       "      <td>25938</td>\n",
       "      <td>Subscriber</td>\n",
       "      <td>1969</td>\n",
       "      <td>1</td>\n",
       "      <td>1.346</td>\n",
       "    </tr>\n",
       "    <tr>\n",
       "      <th>2</th>\n",
       "      <td>1319</td>\n",
       "      <td>2018-08-01 00:00:21.1750</td>\n",
       "      <td>2018-08-01 00:22:20.6370</td>\n",
       "      <td>403.0</td>\n",
       "      <td>E 2 St &amp; 2 Ave</td>\n",
       "      <td>40.725029</td>\n",
       "      <td>-73.990697</td>\n",
       "      <td>285.0</td>\n",
       "      <td>Broadway &amp; E 14 St</td>\n",
       "      <td>40.734546</td>\n",
       "      <td>-73.990741</td>\n",
       "      <td>28679</td>\n",
       "      <td>Subscriber</td>\n",
       "      <td>1970</td>\n",
       "      <td>1</td>\n",
       "      <td>0.657</td>\n",
       "    </tr>\n",
       "    <tr>\n",
       "      <th>3</th>\n",
       "      <td>220</td>\n",
       "      <td>2018-08-01 00:00:26.4700</td>\n",
       "      <td>2018-08-01 00:04:06.8190</td>\n",
       "      <td>3637.0</td>\n",
       "      <td>Fulton St &amp; Waverly Ave</td>\n",
       "      <td>40.683239</td>\n",
       "      <td>-73.965996</td>\n",
       "      <td>399.0</td>\n",
       "      <td>Lafayette Ave &amp; St James Pl</td>\n",
       "      <td>40.688515</td>\n",
       "      <td>-73.964763</td>\n",
       "      <td>28075</td>\n",
       "      <td>Subscriber</td>\n",
       "      <td>1982</td>\n",
       "      <td>1</td>\n",
       "      <td>0.370</td>\n",
       "    </tr>\n",
       "    <tr>\n",
       "      <th>4</th>\n",
       "      <td>398</td>\n",
       "      <td>2018-08-01 00:00:30.2910</td>\n",
       "      <td>2018-08-01 00:07:09.2810</td>\n",
       "      <td>3662.0</td>\n",
       "      <td>31 Ave &amp; Steinway St</td>\n",
       "      <td>40.761294</td>\n",
       "      <td>-73.916917</td>\n",
       "      <td>3517.0</td>\n",
       "      <td>31 St &amp; Hoyt Ave N</td>\n",
       "      <td>40.771153</td>\n",
       "      <td>-73.917007</td>\n",
       "      <td>25002</td>\n",
       "      <td>Subscriber</td>\n",
       "      <td>1987</td>\n",
       "      <td>1</td>\n",
       "      <td>0.680</td>\n",
       "    </tr>\n",
       "  </tbody>\n",
       "</table>\n",
       "</div>"
      ],
      "text/plain": [
       "   tripduration                 starttime                  stoptime  \\\n",
       "0           681  2018-08-01 00:00:07.3210  2018-08-01 00:11:28.9920   \n",
       "1           625  2018-08-01 00:00:19.7480  2018-08-01 00:10:45.0290   \n",
       "2          1319  2018-08-01 00:00:21.1750  2018-08-01 00:22:20.6370   \n",
       "3           220  2018-08-01 00:00:26.4700  2018-08-01 00:04:06.8190   \n",
       "4           398  2018-08-01 00:00:30.2910  2018-08-01 00:07:09.2810   \n",
       "\n",
       "   start station id       start station name  start station latitude  \\\n",
       "0            3162.0       W 78 St & Broadway               40.783400   \n",
       "1            3260.0  Mercer St & Bleecker St               40.727064   \n",
       "2             403.0           E 2 St & 2 Ave               40.725029   \n",
       "3            3637.0  Fulton St & Waverly Ave               40.683239   \n",
       "4            3662.0     31 Ave & Steinway St               40.761294   \n",
       "\n",
       "   start station longitude  end station id             end station name  \\\n",
       "0               -73.980931          3383.0    Cathedral Pkwy & Broadway   \n",
       "1               -73.996621          2012.0              E 27 St & 1 Ave   \n",
       "2               -73.990697           285.0           Broadway & E 14 St   \n",
       "3               -73.965996           399.0  Lafayette Ave & St James Pl   \n",
       "4               -73.916917          3517.0           31 St & Hoyt Ave N   \n",
       "\n",
       "   end station latitude  end station longitude  bikeid    usertype  \\\n",
       "0             40.804213             -73.966991   27770  Subscriber   \n",
       "1             40.739445             -73.976806   25938  Subscriber   \n",
       "2             40.734546             -73.990741   28679  Subscriber   \n",
       "3             40.688515             -73.964763   28075  Subscriber   \n",
       "4             40.771153             -73.917007   25002  Subscriber   \n",
       "\n",
       "   birth year  gender  start/end distance in mi  \n",
       "0        1986       1                     1.612  \n",
       "1        1969       1                     1.346  \n",
       "2        1970       1                     0.657  \n",
       "3        1982       1                     0.370  \n",
       "4        1987       1                     0.680  "
      ]
     },
     "execution_count": 5,
     "metadata": {},
     "output_type": "execute_result"
    }
   ],
   "source": [
    "july_2018.head()"
   ]
  },
  {
   "cell_type": "code",
   "execution_count": 6,
   "id": "b67b211f",
   "metadata": {},
   "outputs": [
    {
     "name": "stdout",
     "output_type": "stream",
     "text": [
      "3072478\n"
     ]
    }
   ],
   "source": [
    "print(len(july_2021))"
   ]
  },
  {
   "cell_type": "code",
   "execution_count": 7,
   "id": "db961872",
   "metadata": {},
   "outputs": [],
   "source": [
    "july_2018['gender'] = july_2018['gender'].replace({0: 'Unknown', 1: 'Male', 2: 'Female'})\n",
    "july_2019['gender'] = july_2019['gender'].replace({0: 'Unknown', 1: 'Male', 2: 'Female'})\n",
    "july_2020['gender'] = july_2020['gender'].replace({0: 'Unknown', 1: 'Male', 2: 'Female'})"
   ]
  },
  {
   "cell_type": "code",
   "execution_count": 8,
   "id": "c53b3b83",
   "metadata": {},
   "outputs": [],
   "source": [
    "#add the company name so csvs can be connected in tableau\n",
    "company = []\n",
    "for i in range(len(july_2018)):\n",
    "    company.append('Citi Bike')\n",
    "july_2018['Company'] = company"
   ]
  },
  {
   "cell_type": "code",
   "execution_count": 9,
   "id": "60bd8720",
   "metadata": {},
   "outputs": [],
   "source": [
    "#get the distance from start to end point per ride and add it into the dataframe\n",
    "start_end = []\n",
    "for i in range(len(july_2019)):\n",
    "    start_coord = [float(july_2019['start station latitude'][i]), float(july_2019['start station longitude'][i])]\n",
    "    end_coord = [float(july_2019['end station latitude'][i]), float(july_2019['end station longitude'][i])]\n",
    "    linear_distance = geopy.distance.distance(start_coord, end_coord).miles\n",
    "    start_end.append(round(linear_distance, 3))\n",
    "\n",
    "july_2019[\"start/end distance in mi\"] = start_end"
   ]
  },
  {
   "cell_type": "code",
   "execution_count": 10,
   "id": "e13c3396",
   "metadata": {},
   "outputs": [],
   "source": [
    "#add the company name so csvs can be connected in tableau and add a column for linear start to end distances\n",
    "company = []\n",
    "for i in range(len(july_2019)):\n",
    "    company.append('Citi Bike')\n",
    "july_2019['Company'] = company"
   ]
  },
  {
   "cell_type": "code",
   "execution_count": 13,
   "id": "95c807f6",
   "metadata": {},
   "outputs": [],
   "source": [
    "#get the distance from start to end point per ride and add it into the dataframe\n",
    "start_end = []\n",
    "for i in range(len(july_2020)):\n",
    "    start_coord = [float(july_2020['start station latitude'][i]), float(july_2020['start station longitude'][i])]\n",
    "    end_coord = [float(july_2020['end station latitude'][i]), float(july_2020['end station longitude'][i])]\n",
    "    linear_distance = geopy.distance.distance(start_coord, end_coord).miles\n",
    "    start_end.append(round(linear_distance, 3))\n",
    "\n",
    "july_2020[\"linear travel distance in mi\"] = start_end"
   ]
  },
  {
   "cell_type": "code",
   "execution_count": 14,
   "id": "ff03e616",
   "metadata": {},
   "outputs": [],
   "source": [
    "company = []\n",
    "for i in range(len(july_2020)):\n",
    "    company.append('Citi Bike')\n",
    "july_2020['Company'] = company"
   ]
  },
  {
   "cell_type": "code",
   "execution_count": 16,
   "id": "cadf5a53",
   "metadata": {},
   "outputs": [],
   "source": [
    "#get the distance from start to end point per ride and add it into the dataframe\n",
    "start_end = []\n",
    "for i in range(len(july_2021)):\n",
    "    start_coord = [float(july_2021['start_lat'][i]), float(july_2021['start_lng'][i])]\n",
    "    end_coord = [float(july_2021['end_lat'][i]), float(july_2021['end_lng'][i])]\n",
    "    try:\n",
    "        linear_distance = geopy.distance.distance(start_coord, end_coord).miles\n",
    "        start_end.append(round(linear_distance, 3))\n",
    "    except:\n",
    "        start_end.append(0.0)\n",
    "    #print(linear_distance)\n",
    "\n",
    "july_2021[\"linear travel distance in mi\"] = start_end"
   ]
  },
  {
   "cell_type": "code",
   "execution_count": null,
   "id": "82c0c9f1",
   "metadata": {},
   "outputs": [],
   "source": []
  },
  {
   "cell_type": "code",
   "execution_count": 17,
   "id": "72c81f8d",
   "metadata": {},
   "outputs": [],
   "source": [
    "company = []\n",
    "for i in range(len(july_2021)):\n",
    "    company.append('Citi Bike')\n",
    "july_2021['Company'] = company"
   ]
  },
  {
   "cell_type": "code",
   "execution_count": null,
   "id": "9d4bc53e",
   "metadata": {},
   "outputs": [],
   "source": []
  },
  {
   "cell_type": "code",
   "execution_count": 11,
   "id": "2db39379",
   "metadata": {},
   "outputs": [],
   "source": [
    "july_2018.to_csv('./july_2018_cititbike_tripdata_large.csv', index=\"False\", header=\"True\")"
   ]
  },
  {
   "cell_type": "code",
   "execution_count": 12,
   "id": "a680c88b",
   "metadata": {},
   "outputs": [],
   "source": [
    "july_2019.to_csv('./july_2019_cititbike_tripdata_large.csv', index=\"False\", header=\"True\")"
   ]
  },
  {
   "cell_type": "code",
   "execution_count": 15,
   "id": "611ac8f5",
   "metadata": {},
   "outputs": [],
   "source": [
    "july_2020.to_csv('./july_2020_cititbike_tripdata_large.csv', index=\"False\", header=\"True\")"
   ]
  },
  {
   "cell_type": "code",
   "execution_count": 18,
   "id": "213e457c",
   "metadata": {},
   "outputs": [],
   "source": [
    "july_2021.to_csv('./july_2021_cititbike_tripdata_large.csv', index=\"False\", header=\"True\")"
   ]
  },
  {
   "cell_type": "code",
   "execution_count": null,
   "id": "001e2512",
   "metadata": {},
   "outputs": [],
   "source": []
  }
 ],
 "metadata": {
  "kernelspec": {
   "display_name": "Python 3",
   "language": "python",
   "name": "python3"
  },
  "language_info": {
   "codemirror_mode": {
    "name": "ipython",
    "version": 3
   },
   "file_extension": ".py",
   "mimetype": "text/x-python",
   "name": "python",
   "nbconvert_exporter": "python",
   "pygments_lexer": "ipython3",
   "version": "3.8.8"
  }
 },
 "nbformat": 4,
 "nbformat_minor": 5
}
